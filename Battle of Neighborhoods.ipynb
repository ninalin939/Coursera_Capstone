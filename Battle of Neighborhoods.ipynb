{
    "cells": [
        {
            "cell_type": "markdown",
            "metadata": {
                "collapsed": true
            },
            "source": "# Week 1"
        },
        {
            "cell_type": "markdown",
            "metadata": {},
            "source": "# Introduction/Business Problem"
        },
        {
            "cell_type": "markdown",
            "metadata": {},
            "source": "A group of recent graduates is looking for an optimal location for their startup. Since majority of the employees are relatively young and fresh out of college, the startup is looking to a place with high standards of living and quality of life. Thus, they have narrowed the locations down to either Toronto or New York. The CEO of the startup needs a data scientist to analyze the neighborhoods in Toronto and New York. The Capstone Project will outline the methodology in solving the problem. By comparing neighborhoods between the two cities, the capstone will conclude with the neighborhoods that will be optimal for the startup.  "
        },
        {
            "cell_type": "markdown",
            "metadata": {},
            "source": "# Data"
        },
        {
            "cell_type": "markdown",
            "metadata": {},
            "source": "I gathered postal codes, neighborhood names, latitude and longitude data from the cities' Wikipedia pages. Geo-spacial data and locations in the Folium map will allow me to make sense of the neighborhoods. Foursquare API gets the venues' record of given venues which is used to determine quality. I will also use var"
        }
    ],
    "metadata": {
        "kernelspec": {
            "display_name": "Python 3.6",
            "language": "python",
            "name": "python3"
        },
        "language_info": {
            "codemirror_mode": {
                "name": "ipython",
                "version": 3
            },
            "file_extension": ".py",
            "mimetype": "text/x-python",
            "name": "python",
            "nbconvert_exporter": "python",
            "pygments_lexer": "ipython3",
            "version": "3.6.9"
        }
    },
    "nbformat": 4,
    "nbformat_minor": 1
}