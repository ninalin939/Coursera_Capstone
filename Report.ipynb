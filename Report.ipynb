{
    "cells": [
        {
            "cell_type": "markdown",
            "metadata": {
                "collapsed": true
            },
            "source": "# Battle of Neighborhoods"
        },
        {
            "attachments": {},
            "cell_type": "markdown",
            "metadata": {},
            "source": "## Introduction"
        },
        {
            "cell_type": "markdown",
            "metadata": {},
            "source": "New families are looking for an optimal location for their new life. Since majority of the families are looking to expand and grow, they are looking to a place with high standards of living and quality of life. Thus, they have narrowed the locations down to Scarborough, Canada. They need a data scientist to analyze the neighborhoods in Toronto and New York. The Capstone Project will outline the methodology in solving the problem. By comparing neighborhoods between the two cities, the capstone will conclude with the neighborhoods that will be optimal for the startup."
        },
        {
            "cell_type": "markdown",
            "metadata": {},
            "source": "## Data"
        },
        {
            "cell_type": "markdown",
            "metadata": {},
            "source": "I gathered postal codes, neighborhood names, latitude and longitude data from the Wikipedia page: https://en.wikipedia.org/wiki/List_of_postal_codes_of_Canada:_M. Geo-spacial data and locations in the Folium map will allow me to make sense of the neighborhoods. Foursquare API gets the venues' record of given venues which is used to determine quality. This resource will allow me to gather information on venues within a 100 meter radius of the neighborhood. \n"
        },
        {
            "cell_type": "markdown",
            "metadata": {},
            "source": "## Methodology"
        },
        {
            "cell_type": "markdown",
            "metadata": {},
            "source": "### Workflow"
        },
        {
            "cell_type": "markdown",
            "metadata": {},
            "source": "Foursquare API gets the venues' record of given venues.  Information on venues within a 100 meter radius of the neighborhood and 500 for radius parameter as a result of http request limitations. "
        },
        {
            "cell_type": "markdown",
            "metadata": {},
            "source": "### Modeling"
        },
        {
            "attachments": {},
            "cell_type": "markdown",
            "metadata": {},
            "source": "K - means clustering, a form of unsupervised machine learning algorithm that clusters data based on predefined cluster size, was used to help people find similar neighborhoods in Scarborough. K- means clustering puts neighborhoods with similar venues together so that people can choose a specific area based on the venues around each neighborhood."
        },
        {
            "attachments": {},
            "cell_type": "markdown",
            "metadata": {},
            "source": "## Results and Discussion"
        },
        {
            "attachments": {},
            "cell_type": "markdown",
            "metadata": {},
            "source": "The goal of this project is to help families who want to relocate to Scarborough. They can an chose the neighborhoods to which they want to relocate based on the most common venues in it. For example, if the family enjoys fitness, they might want to consider Alderwood, Long Branch because the gym is the most frequented venue. If they enjoy nature, they would consider Bayview village because the park and trail are more frequented than other venues. If they were an Asian immigrant, Agincourt would be a great choice due to growing Asian venues in the neighborhood."
        },
        {
            "cell_type": "markdown",
            "metadata": {},
            "source": "## Conclusion"
        },
        {
            "attachments": {},
            "cell_type": "markdown",
            "metadata": {},
            "source": "This project can help someone better understand different neighborhoods as a result of different venues in the Scarborough area. I was able to use what I learned in my courses to this capstone project. This display of data science shows how important and relevant this growing field is."
        },
        {
            "cell_type": "code",
            "execution_count": null,
            "metadata": {},
            "outputs": [],
            "source": ""
        }
    ],
    "metadata": {
        "kernelspec": {
            "display_name": "Python 3.6",
            "language": "python",
            "name": "python3"
        },
        "language_info": {
            "codemirror_mode": {
                "name": "ipython",
                "version": 3
            },
            "file_extension": ".py",
            "mimetype": "text/x-python",
            "name": "python",
            "nbconvert_exporter": "python",
            "pygments_lexer": "ipython3",
            "version": "3.6.9"
        }
    },
    "nbformat": 4,
    "nbformat_minor": 1
}